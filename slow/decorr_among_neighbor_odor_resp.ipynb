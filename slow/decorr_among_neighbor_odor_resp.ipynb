{
 "cells": [
  {
   "cell_type": "code",
   "execution_count": 1,
   "metadata": {
    "collapsed": false
   },
   "outputs": [
    {
     "name": "stdout",
     "output_type": "stream",
     "text": [
      "\n",
      "2017-05-29 06:11:26\n"
     ]
    }
   ],
   "source": [
    "execfile('slow_analy_head.py')"
   ]
  },
  {
   "cell_type": "code",
   "execution_count": 39,
   "metadata": {
    "collapsed": false
   },
   "outputs": [
    {
     "name": "stdout",
     "output_type": "stream",
     "text": [
      "(0.68419536687179527, 1.2381146434583658e-115)\n",
      "(0.69645115978248229, 1.8711303175570693e-121)\n"
     ]
    }
   ],
   "source": [
    "c=0\n",
    "s=30\n",
    "tb,te=1200,1250\n",
    "\n",
    "x=load_sf_avged_over_trial(c,0,tb,te)\n",
    "y=load_sf_avged_over_trial(c,s,tb,te)\n",
    "xo=load_sf_avged_over_trial(odor_coupling,0,tb,te)\n",
    "yo=load_sf_avged_over_trial(odor_coupling,s,tb,te)\n",
    "\n",
    "print(scipy.stats.pearsonr(x,y))\n",
    "print(scipy.stats.pearsonr(xo,yo))"
   ]
  },
  {
   "cell_type": "code",
   "execution_count": 47,
   "metadata": {
    "collapsed": false
   },
   "outputs": [
    {
     "name": "stdout",
     "output_type": "stream",
     "text": [
      "[[ 1.          0.68419537]\n",
      " [ 0.68419537  1.        ]]\n",
      "---\n",
      "[[ 1.          0.69645116]\n",
      " [ 0.69645116  1.        ]]\n"
     ]
    }
   ],
   "source": [
    "print(corrcoef(x,y))\n",
    "print('---')\n",
    "print(corrcoef(xo,yo))\n"
   ]
  },
  {
   "cell_type": "code",
   "execution_count": null,
   "metadata": {
    "collapsed": true
   },
   "outputs": [],
   "source": []
  }
 ],
 "metadata": {
  "kernelspec": {
   "display_name": "Python 2",
   "language": "python",
   "name": "python2"
  },
  "language_info": {
   "codemirror_mode": {
    "name": "ipython",
    "version": 2
   },
   "file_extension": ".py",
   "mimetype": "text/x-python",
   "name": "python",
   "nbconvert_exporter": "python",
   "pygments_lexer": "ipython2",
   "version": "2.7.13"
  }
 },
 "nbformat": 4,
 "nbformat_minor": 2
}
